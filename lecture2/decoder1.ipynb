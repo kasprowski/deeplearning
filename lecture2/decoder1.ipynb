{
 "cells": [
  {
   "cell_type": "markdown",
   "metadata": {},
   "source": [
    "# Neural network working as a decoder (decodes a binary sequence to the number)\n",
    "## Example: [1,0,0,0,1,0,0,1] -> 137"
   ]
  },
  {
   "cell_type": "code",
   "execution_count": null,
   "metadata": {},
   "outputs": [],
   "source": [
    "import tensorflow as tf\n",
    "import numpy as np\n",
    "from tensorflow.keras.layers import Dense\n",
    "from tensorflow.keras.models import Sequential"
   ]
  },
  {
   "cell_type": "markdown",
   "metadata": {},
   "source": [
    "## Create the dataset\n",
    "- input: lists of size 8 with 0 and 1\n",
    "- output: the value of the number"
   ]
  },
  {
   "cell_type": "code",
   "execution_count": null,
   "metadata": {},
   "outputs": [],
   "source": [
    "samples = []\n",
    "labels = []\n",
    "for x in range(256):\n",
    "    bin_val = bin(x)[2:].rjust(8,'0')\n",
    "    samples.append(list(bin_val))\n",
    "    labels.append(x)\n",
    "samples = np.array(samples,dtype=float)\n",
    "labels = np.array(labels,dtype=float)\n",
    "\n",
    "for i in range(5):\n",
    "    print(samples[i],' -> ',labels[i])    \n",
    "print('...')\n",
    "for i in range(250,256):\n",
    "    print(samples[i],' -> ',labels[i])"
   ]
  },
  {
   "cell_type": "markdown",
   "metadata": {},
   "source": [
    "## Build the neural network model"
   ]
  },
  {
   "cell_type": "code",
   "execution_count": null,
   "metadata": {},
   "outputs": [],
   "source": [
    "ADDITIONAL_LAYER = True\n",
    "\n",
    "model = Sequential()\n",
    "model.add(Dense(12,input_dim=8))\n",
    "if ADDITIONAL_LAYER:\n",
    "    model.add(Dense(12))\n",
    "model.add(Dense(1))\n",
    "model.summary()"
   ]
  },
  {
   "cell_type": "markdown",
   "metadata": {},
   "source": [
    "## Compile the model"
   ]
  },
  {
   "cell_type": "code",
   "execution_count": null,
   "metadata": {},
   "outputs": [],
   "source": [
    "model.compile(loss='mean_absolute_error', optimizer=\"adam\",metrics=['mae'])"
   ]
  },
  {
   "cell_type": "markdown",
   "metadata": {},
   "source": [
    "## Divide to training and test "
   ]
  },
  {
   "cell_type": "code",
   "execution_count": null,
   "metadata": {},
   "outputs": [],
   "source": [
    "TRAIN_SIZE = 0.1 # only 10% to train!\n",
    "\n",
    "import sklearn.model_selection\n",
    "(trainSamples, testSamples, trainLabels, testLabels) = sklearn.model_selection.train_test_split(samples, labels, \n",
    "                            train_size=TRAIN_SIZE)\n",
    "print('Training samples:',len(trainSamples),' test samples:',len(testSamples))"
   ]
  },
  {
   "cell_type": "markdown",
   "metadata": {},
   "source": [
    "## Train the network"
   ]
  },
  {
   "cell_type": "code",
   "execution_count": null,
   "metadata": {},
   "outputs": [],
   "source": [
    "EPOCHS = 200\n",
    "print(\"Training using \",len(trainSamples),'samples and ',EPOCHS,' epochs')\n",
    "\n",
    "H = model.fit(trainSamples,trainLabels,validation_data=(testSamples,testLabels), epochs=EPOCHS, verbose=1)\n",
    "print(\"Initial loss - training mae={:6.3f} validation mae={:6.3f}\".format(H.history['mae'][0],H.history['val_mae'][0]))\n",
    "print(\"Final loss - training mae={:6.3f} validation mae={:6.3f}\".format(H.history['mae'][-1],H.history['val_mae'][-1]))"
   ]
  },
  {
   "cell_type": "markdown",
   "metadata": {},
   "source": [
    "## Calculate errors"
   ]
  },
  {
   "cell_type": "code",
   "execution_count": null,
   "metadata": {},
   "outputs": [],
   "source": [
    "def calc_errors(predictedLabels,realLabels,verbose=1):\n",
    "    predictedLabels = np.ravel(predictedLabels)\n",
    "    for i in range(len(realLabels)):\n",
    "        tNum = realLabels[i]\n",
    "        pNum = predictedLabels[i]\n",
    "        if(verbose>0):\n",
    "            print(\"{:3.0f} -> {:6.2f} error={:7.2f}\".format(tNum,pNum,abs(pNum-tNum)))\n",
    "    print('Mean Absolute Error (MAE)= {:7.2f}'.format(np.mean(np.absolute(predictedLabels - realLabels))))\n",
    "print('TRAINING SET')\n",
    "predictedLabels = model.predict(trainSamples)\n",
    "calc_errors(predictedLabels,trainLabels)\n",
    "print()\n",
    "\n",
    "print('TEST SET')\n",
    "predictedLabels = model.predict(testSamples)\n",
    "calc_errors(predictedLabels,testLabels)\n"
   ]
  }
 ],
 "metadata": {
  "kernelspec": {
   "display_name": "Python 3",
   "language": "python",
   "name": "python3"
  },
  "language_info": {
   "codemirror_mode": {
    "name": "ipython",
    "version": 3
   },
   "file_extension": ".py",
   "mimetype": "text/x-python",
   "name": "python",
   "nbconvert_exporter": "python",
   "pygments_lexer": "ipython3",
   "version": "3.7.9"
  }
 },
 "nbformat": 4,
 "nbformat_minor": 4
}
