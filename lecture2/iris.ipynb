{
 "cells": [
  {
   "cell_type": "markdown",
   "metadata": {},
   "source": [
    "# Simple classification of Iris dataset using K Nearest Neighbors classifier\n",
    "\n",
    "## Import packages"
   ]
  },
  {
   "cell_type": "code",
   "execution_count": 1,
   "metadata": {},
   "outputs": [],
   "source": [
    "import pandas as pd\n",
    "import sklearn\n",
    "import numpy as np\n",
    "from sklearn.neighbors import KNeighborsClassifier"
   ]
  },
  {
   "cell_type": "markdown",
   "metadata": {},
   "source": [
    "## Load data"
   ]
  },
  {
   "cell_type": "code",
   "execution_count": 2,
   "metadata": {},
   "outputs": [
    {
     "data": {
      "text/html": [
       "<div>\n",
       "<style scoped>\n",
       "    .dataframe tbody tr th:only-of-type {\n",
       "        vertical-align: middle;\n",
       "    }\n",
       "\n",
       "    .dataframe tbody tr th {\n",
       "        vertical-align: top;\n",
       "    }\n",
       "\n",
       "    .dataframe thead th {\n",
       "        text-align: right;\n",
       "    }\n",
       "</style>\n",
       "<table border=\"1\" class=\"dataframe\">\n",
       "  <thead>\n",
       "    <tr style=\"text-align: right;\">\n",
       "      <th></th>\n",
       "      <th>sl</th>\n",
       "      <th>sw</th>\n",
       "      <th>pl</th>\n",
       "      <th>pw</th>\n",
       "      <th>iris</th>\n",
       "    </tr>\n",
       "  </thead>\n",
       "  <tbody>\n",
       "    <tr>\n",
       "      <th>0</th>\n",
       "      <td>5.1</td>\n",
       "      <td>3.5</td>\n",
       "      <td>1.4</td>\n",
       "      <td>0.2</td>\n",
       "      <td>Iris-setosa</td>\n",
       "    </tr>\n",
       "    <tr>\n",
       "      <th>1</th>\n",
       "      <td>4.9</td>\n",
       "      <td>3.0</td>\n",
       "      <td>1.4</td>\n",
       "      <td>0.2</td>\n",
       "      <td>Iris-setosa</td>\n",
       "    </tr>\n",
       "    <tr>\n",
       "      <th>2</th>\n",
       "      <td>4.7</td>\n",
       "      <td>3.2</td>\n",
       "      <td>1.3</td>\n",
       "      <td>0.2</td>\n",
       "      <td>Iris-setosa</td>\n",
       "    </tr>\n",
       "    <tr>\n",
       "      <th>3</th>\n",
       "      <td>4.6</td>\n",
       "      <td>3.1</td>\n",
       "      <td>1.5</td>\n",
       "      <td>0.2</td>\n",
       "      <td>Iris-setosa</td>\n",
       "    </tr>\n",
       "    <tr>\n",
       "      <th>4</th>\n",
       "      <td>5.0</td>\n",
       "      <td>3.6</td>\n",
       "      <td>1.4</td>\n",
       "      <td>0.2</td>\n",
       "      <td>Iris-setosa</td>\n",
       "    </tr>\n",
       "    <tr>\n",
       "      <th>...</th>\n",
       "      <td>...</td>\n",
       "      <td>...</td>\n",
       "      <td>...</td>\n",
       "      <td>...</td>\n",
       "      <td>...</td>\n",
       "    </tr>\n",
       "    <tr>\n",
       "      <th>145</th>\n",
       "      <td>6.7</td>\n",
       "      <td>3.0</td>\n",
       "      <td>5.2</td>\n",
       "      <td>2.3</td>\n",
       "      <td>Iris-virginica</td>\n",
       "    </tr>\n",
       "    <tr>\n",
       "      <th>146</th>\n",
       "      <td>6.3</td>\n",
       "      <td>2.5</td>\n",
       "      <td>5.0</td>\n",
       "      <td>1.9</td>\n",
       "      <td>Iris-virginica</td>\n",
       "    </tr>\n",
       "    <tr>\n",
       "      <th>147</th>\n",
       "      <td>6.5</td>\n",
       "      <td>3.0</td>\n",
       "      <td>5.2</td>\n",
       "      <td>2.0</td>\n",
       "      <td>Iris-virginica</td>\n",
       "    </tr>\n",
       "    <tr>\n",
       "      <th>148</th>\n",
       "      <td>6.2</td>\n",
       "      <td>3.4</td>\n",
       "      <td>5.4</td>\n",
       "      <td>2.3</td>\n",
       "      <td>Iris-virginica</td>\n",
       "    </tr>\n",
       "    <tr>\n",
       "      <th>149</th>\n",
       "      <td>5.9</td>\n",
       "      <td>3.0</td>\n",
       "      <td>5.1</td>\n",
       "      <td>1.8</td>\n",
       "      <td>Iris-virginica</td>\n",
       "    </tr>\n",
       "  </tbody>\n",
       "</table>\n",
       "<p>150 rows × 5 columns</p>\n",
       "</div>"
      ],
      "text/plain": [
       "      sl   sw   pl   pw            iris\n",
       "0    5.1  3.5  1.4  0.2     Iris-setosa\n",
       "1    4.9  3.0  1.4  0.2     Iris-setosa\n",
       "2    4.7  3.2  1.3  0.2     Iris-setosa\n",
       "3    4.6  3.1  1.5  0.2     Iris-setosa\n",
       "4    5.0  3.6  1.4  0.2     Iris-setosa\n",
       "..   ...  ...  ...  ...             ...\n",
       "145  6.7  3.0  5.2  2.3  Iris-virginica\n",
       "146  6.3  2.5  5.0  1.9  Iris-virginica\n",
       "147  6.5  3.0  5.2  2.0  Iris-virginica\n",
       "148  6.2  3.4  5.4  2.3  Iris-virginica\n",
       "149  5.9  3.0  5.1  1.8  Iris-virginica\n",
       "\n",
       "[150 rows x 5 columns]"
      ]
     },
     "execution_count": 2,
     "metadata": {},
     "output_type": "execute_result"
    }
   ],
   "source": [
    "data = pd.read_csv('iris.data')\n",
    "data"
   ]
  },
  {
   "cell_type": "markdown",
   "metadata": {},
   "source": [
    "## Create the model"
   ]
  },
  {
   "cell_type": "code",
   "execution_count": 3,
   "metadata": {},
   "outputs": [
    {
     "name": "stdout",
     "output_type": "stream",
     "text": [
      "predicted ['Iris-virginica']\n"
     ]
    }
   ],
   "source": [
    "model = KNeighborsClassifier()\n",
    "samples = data.values[:,0:4]\n",
    "labels = data.values[:,4]\n",
    "model.fit(samples, labels)    \n",
    "predicted = model.predict([(5.9,3.0,5.1,1.8)])\n",
    "print(\"predicted\",predicted)"
   ]
  },
  {
   "cell_type": "markdown",
   "metadata": {},
   "source": [
    "## Train-test split (with and without stratification) and model fit"
   ]
  },
  {
   "cell_type": "code",
   "execution_count": 4,
   "metadata": {},
   "outputs": [
    {
     "name": "stdout",
     "output_type": "stream",
     "text": [
      "Labels distribution: Counter({'Iris-setosa': 50, 'Iris-versicolor': 50, 'Iris-virginica': 50})\n",
      "Train labels distribution: Counter({'Iris-versicolor': 39, 'Iris-setosa': 38, 'Iris-virginica': 35})\n",
      "Test labels distribution: Counter({'Iris-virginica': 15, 'Iris-setosa': 12, 'Iris-versicolor': 11})\n"
     ]
    },
    {
     "data": {
      "text/plain": [
       "KNeighborsClassifier()"
      ]
     },
     "execution_count": 4,
     "metadata": {},
     "output_type": "execute_result"
    }
   ],
   "source": [
    "from collections import Counter\n",
    "print(\"Labels distribution:\",Counter(labels))\n",
    "\n",
    "# train-test split\n",
    "(trainSamples, testSamples, trainLabels, testLabels) = sklearn.model_selection.train_test_split(samples, labels, random_state=30\n",
    "    #, stratify=labels\n",
    "    #, train_size=0.5                                                                                            \n",
    "    )\n",
    "\n",
    "print(\"Train labels distribution:\", Counter(trainLabels))\n",
    "print(\"Test labels distribution:\",Counter(testLabels))\n",
    "\n",
    "model = KNeighborsClassifier()\n",
    "model.fit(trainSamples, trainLabels)    "
   ]
  },
  {
   "cell_type": "markdown",
   "metadata": {},
   "source": [
    "## Check an error for the test set"
   ]
  },
  {
   "cell_type": "code",
   "execution_count": 5,
   "metadata": {},
   "outputs": [
    {
     "name": "stdout",
     "output_type": "stream",
     "text": [
      "Iris-setosa -> Iris-setosa OK\n",
      "Iris-setosa -> Iris-setosa OK\n",
      "Iris-setosa -> Iris-setosa OK\n",
      "Iris-virginica -> Iris-virginica OK\n",
      "Iris-versicolor -> Iris-versicolor OK\n",
      "Iris-versicolor -> Iris-versicolor OK\n",
      "Iris-virginica -> Iris-virginica OK\n",
      "Iris-virginica -> Iris-virginica OK\n",
      "Iris-versicolor -> Iris-versicolor OK\n",
      "Iris-virginica -> Iris-virginica OK\n",
      "Iris-setosa -> Iris-setosa OK\n",
      "Iris-virginica -> Iris-virginica OK\n",
      "Iris-versicolor -> Iris-versicolor OK\n",
      "Iris-versicolor -> Iris-versicolor OK\n",
      "Iris-setosa -> Iris-setosa OK\n",
      "Iris-versicolor -> Iris-versicolor OK\n",
      "Iris-setosa -> Iris-setosa OK\n",
      "Iris-setosa -> Iris-setosa OK\n",
      "Iris-setosa -> Iris-setosa OK\n",
      "Iris-versicolor -> Iris-virginica error!!!\n",
      "Iris-virginica -> Iris-versicolor error!!!\n",
      "Iris-setosa -> Iris-setosa OK\n",
      "Iris-setosa -> Iris-setosa OK\n",
      "Iris-setosa -> Iris-setosa OK\n",
      "Iris-virginica -> Iris-virginica OK\n",
      "Iris-virginica -> Iris-virginica OK\n",
      "Iris-versicolor -> Iris-virginica error!!!\n",
      "Iris-virginica -> Iris-virginica OK\n",
      "Iris-setosa -> Iris-setosa OK\n",
      "Iris-versicolor -> Iris-versicolor OK\n",
      "Iris-virginica -> Iris-virginica OK\n",
      "Iris-versicolor -> Iris-versicolor OK\n",
      "Iris-virginica -> Iris-virginica OK\n",
      "Iris-virginica -> Iris-virginica OK\n",
      "Iris-virginica -> Iris-virginica OK\n",
      "Iris-virginica -> Iris-virginica OK\n",
      "Iris-versicolor -> Iris-versicolor OK\n",
      "Iris-virginica -> Iris-virginica OK\n",
      "Correct: 35  of  38  accuracy= 0.9210526315789473\n",
      "Correct: 35 of 38 accuracy = 0.92\n"
     ]
    }
   ],
   "source": [
    "correct = 0;\n",
    "predictedLabels = model.predict(testSamples)\n",
    "for i in range(len(testSamples)):\n",
    "    print(testLabels[i],\"->\",predictedLabels[i],end=' ')\n",
    "    if(testLabels[i]==predictedLabels[i]):\n",
    "        correct = correct + 1; \n",
    "        print('OK')\n",
    "    else:        \n",
    "        print('error!!!')\n",
    "print(\"Correct:\",correct,\" of \",len(testSamples),\" accuracy=\",correct/len(testSamples))\n",
    "print(\"Correct: {} of {} accuracy = {:.2f}\".format(correct,len(testSamples),correct/len(testSamples)))"
   ]
  },
  {
   "cell_type": "markdown",
   "metadata": {},
   "source": [
    "## Cross validation"
   ]
  },
  {
   "cell_type": "code",
   "execution_count": 6,
   "metadata": {},
   "outputs": [
    {
     "data": {
      "text/plain": [
       "{'fit_time': array([0.0009985 , 0.00101089, 0.00100613, 0.        , 0.00099635,\n",
       "        0.00099421, 0.00099277, 0.        , 0.        , 0.        ]),\n",
       " 'score_time': array([0.00498962, 0.00397539, 0.00297356, 0.00296283, 0.00203133,\n",
       "        0.00100231, 0.00099587, 0.00200629, 0.00198555, 0.00099611]),\n",
       " 'test_score': array([1.        , 0.93333333, 1.        , 1.        , 0.86666667,\n",
       "        0.93333333, 0.93333333, 1.        , 1.        , 1.        ])}"
      ]
     },
     "execution_count": 6,
     "metadata": {},
     "output_type": "execute_result"
    }
   ],
   "source": [
    "sklearn.model_selection.cross_validate(model, samples, labels, cv=10)"
   ]
  },
  {
   "cell_type": "markdown",
   "metadata": {},
   "source": [
    "## Measures calculation"
   ]
  },
  {
   "cell_type": "code",
   "execution_count": 7,
   "metadata": {},
   "outputs": [
    {
     "name": "stdout",
     "output_type": "stream",
     "text": [
      "[[12  0  0]\n",
      " [ 0  9  2]\n",
      " [ 0  1 14]]\n",
      "                 precision    recall  f1-score   support\n",
      "\n",
      "    Iris-setosa       1.00      1.00      1.00        12\n",
      "Iris-versicolor       0.90      0.82      0.86        11\n",
      " Iris-virginica       0.88      0.93      0.90        15\n",
      "\n",
      "       accuracy                           0.92        38\n",
      "      macro avg       0.92      0.92      0.92        38\n",
      "   weighted avg       0.92      0.92      0.92        38\n",
      "\n",
      "Accuracy: 0.92\n",
      "Cohen's Kappa: 0.88\n"
     ]
    }
   ],
   "source": [
    "from sklearn.metrics import classification_report, confusion_matrix, accuracy_score,cohen_kappa_score\n",
    "modelResults = model.predict(testSamples)\n",
    "print(confusion_matrix(testLabels, modelResults))\n",
    "print(classification_report(testLabels, modelResults))\n",
    "accuracy = accuracy_score(testLabels, modelResults) \n",
    "print(\"Accuracy: {:.2f}\".format(accuracy))\n",
    "print(\"Cohen's Kappa: {:.2f}\".format(cohen_kappa_score(testLabels, modelResults)))"
   ]
  },
  {
   "cell_type": "markdown",
   "metadata": {},
   "source": [
    "## Adding own scorers to cross validation"
   ]
  },
  {
   "cell_type": "code",
   "execution_count": 8,
   "metadata": {},
   "outputs": [
    {
     "data": {
      "text/plain": [
       "{'fit_time': array([0.00099659, 0.00100303, 0.00099587, 0.        , 0.00099754]),\n",
       " 'score_time': array([0.00398898, 0.00498199, 0.00199628, 0.00302553, 0.00295591]),\n",
       " 'test_precision': array([0.96666667, 1.        , 0.93333333, 0.96666667, 1.        ]),\n",
       " 'test_recall': array([0.96666667, 1.        , 0.93333333, 0.96666667, 1.        ])}"
      ]
     },
     "execution_count": 8,
     "metadata": {},
     "output_type": "execute_result"
    }
   ],
   "source": [
    "from sklearn.metrics import make_scorer, precision_score, recall_score\n",
    "p_scorer = make_scorer(precision_score, average='micro')\n",
    "r_scorer = make_scorer(recall_score, average='micro')\n",
    "my_scorer = {'precision': p_scorer, 'recall': r_scorer}\n",
    "sklearn.model_selection.cross_validate(model, samples, labels, cv=5, scoring=my_scorer)"
   ]
  }
 ],
 "metadata": {
  "kernelspec": {
   "display_name": "Python 3",
   "language": "python",
   "name": "python3"
  },
  "language_info": {
   "codemirror_mode": {
    "name": "ipython",
    "version": 3
   },
   "file_extension": ".py",
   "mimetype": "text/x-python",
   "name": "python",
   "nbconvert_exporter": "python",
   "pygments_lexer": "ipython3",
   "version": "3.7.9"
  }
 },
 "nbformat": 4,
 "nbformat_minor": 4
}
