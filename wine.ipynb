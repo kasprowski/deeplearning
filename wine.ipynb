{
  "nbformat": 4,
  "nbformat_minor": 0,
  "metadata": {
    "kernelspec": {
      "display_name": "Python 3",
      "language": "python",
      "name": "python3"
    },
    "language_info": {
      "codemirror_mode": {
        "name": "ipython",
        "version": 3
      },
      "file_extension": ".py",
      "mimetype": "text/x-python",
      "name": "python",
      "nbconvert_exporter": "python",
      "pygments_lexer": "ipython3",
      "version": "3.7.9"
    },
    "colab": {
      "name": "wine.ipynb",
      "provenance": [],
      "toc_visible": true,
      "include_colab_link": true
    }
  },
  "cells": [
    {
      "cell_type": "markdown",
      "metadata": {
        "id": "view-in-github",
        "colab_type": "text"
      },
      "source": [
        "<a href=\"https://colab.research.google.com/github/kasprowski/deeplearning/blob/master/wine.ipynb\" target=\"_parent\"><img src=\"https://colab.research.google.com/assets/colab-badge.svg\" alt=\"Open In Colab\"/></a>"
      ]
    },
    {
      "cell_type": "code",
      "metadata": {
        "id": "AyrPImU4hCkS"
      },
      "source": [
        "import pandas as pd\n",
        "import sklearn\n",
        "import numpy as np\n",
        "import matplotlib.pyplot as plt\n",
        "from sklearn.neighbors import KNeighborsClassifier"
      ],
      "execution_count": null,
      "outputs": []
    },
    {
      "cell_type": "markdown",
      "metadata": {
        "id": "WEO1sTaxhCkY"
      },
      "source": [
        "# Loading data"
      ]
    },
    {
      "cell_type": "code",
      "metadata": {
        "id": "GUtkBytchCkZ",
        "outputId": "437b18a2-2b58-4c57-b4d7-f0d4ee7c445a",
        "colab": {
          "base_uri": "https://localhost:8080/",
          "height": 282
        }
      },
      "source": [
        "data = pd.read_csv('winequality-white.csv',sep=';')\n",
        "print(\"Loaded: \",len(data))\n",
        "samples = data.values[:,0:10]\n",
        "labels = data.values[:,11]\n",
        "\n",
        "plt.hist(labels,bins=10,range=(0,10))\n",
        "plt.show()"
      ],
      "execution_count": null,
      "outputs": [
        {
          "output_type": "stream",
          "text": [
            "Loaded:  4898\n"
          ],
          "name": "stdout"
        },
        {
          "output_type": "display_data",
          "data": {
            "image/png": "[encoded data removed]",
            "text/plain": [
              "<Figure size 432x288 with 1 Axes>"
            ]
          },
          "metadata": {
            "tags": [],
            "needs_background": "light"
          }
        }
      ]
    },
    {
      "cell_type": "markdown",
      "metadata": {
        "id": "Rt-UJDkVhCkf"
      },
      "source": [
        "# The simplest classification"
      ]
    },
    {
      "cell_type": "code",
      "metadata": {
        "id": "7o5kSABXhCkg",
        "outputId": "732d4812-9d5c-4d51-aa71-173c2ff15d8c",
        "colab": {
          "base_uri": "https://localhost:8080/"
        }
      },
      "source": [
        "model = KNeighborsClassifier()\n",
        "samples = data.values[:,0:10]\n",
        "labels = data.values[:,11]\n",
        "model.fit(samples, labels)    \n",
        "\n",
        "import random\n",
        "i = random.randrange(len(labels))\n",
        "predicted = model.predict(samples[i].reshape(1,-1))\n",
        "print(\"predicted\",predicted[0], \"real\",labels[i])"
      ],
      "execution_count": null,
      "outputs": [
        {
          "output_type": "stream",
          "text": [
            "predicted 5.0 real 5.0\n"
          ],
          "name": "stdout"
        }
      ]
    },
    {
      "cell_type": "markdown",
      "metadata": {
        "id": "Sc_BYBWLhCkk"
      },
      "source": [
        "# Train-test split"
      ]
    },
    {
      "cell_type": "code",
      "metadata": {
        "id": "3Dj6pVxjhCkl",
        "outputId": "ff33666b-49a6-4717-e031-83a71595ac9d",
        "colab": {
          "base_uri": "https://localhost:8080/"
        }
      },
      "source": [
        "# train-test split\n",
        "(trainSamples, testSamples, trainLabels, testLabels) = sklearn.model_selection.train_test_split(samples, labels, stratify=labels)\n",
        "model.fit(trainSamples, trainLabels)    \n",
        "\n",
        "correct = 0;\n",
        "predictedLabels = model.predict(testSamples)\n",
        "for i in range(len(testSamples)):\n",
        "#    print(\"real:\",testLabels[i],\"predicted:\",predictedLabels[i])\n",
        "    if(testLabels[i]==predictedLabels[i]):\n",
        "        correct = correct + 1\n",
        "print(\"Correct:\",correct,\" of \",len(testSamples),\" accuracy=\",correct/len(testSamples))"
      ],
      "execution_count": null,
      "outputs": [
        {
          "output_type": "stream",
          "text": [
            "Correct: 556  of  1225  accuracy= 0.45387755102040817\n"
          ],
          "name": "stdout"
        }
      ]
    },
    {
      "cell_type": "markdown",
      "metadata": {
        "id": "QoWkhTBxhCko"
      },
      "source": [
        "# Measures calculation"
      ]
    },
    {
      "cell_type": "code",
      "metadata": {
        "id": "hUqpDBl8hCkp",
        "outputId": "72c325e7-7058-42a4-b451-645cfe4d480d",
        "colab": {
          "base_uri": "https://localhost:8080/"
        }
      },
      "source": [
        "from sklearn.metrics import classification_report, confusion_matrix, accuracy_score,cohen_kappa_score\n",
        "modelResults = model.predict(testSamples)\n",
        "print(confusion_matrix(testLabels, modelResults))\n",
        "print(classification_report(testLabels, modelResults))\n",
        "accuracy = accuracy_score(testLabels, modelResults) \n",
        "print(\"Accuracy: {:.2f}\".format(accuracy))\n",
        "print(\"Cohen's Kappa: {:.2f}\".format(cohen_kappa_score(testLabels, modelResults)))"
      ],
      "execution_count": null,
      "outputs": [
        {
          "output_type": "stream",
          "text": [
            "[[  0   1   3   1   0   0   0]\n",
            " [  0   6  19  15   1   0   0]\n",
            " [  0  11 178 152  21   2   0]\n",
            " [  0  10 164 320  52   4   0]\n",
            " [  0   2  53 111  49   5   0]\n",
            " [  0   2   7  23   9   3   0]\n",
            " [  0   0   0   0   1   0   0]]\n",
            "              precision    recall  f1-score   support\n",
            "\n",
            "         3.0       0.00      0.00      0.00         5\n",
            "         4.0       0.19      0.15      0.16        41\n",
            "         5.0       0.42      0.49      0.45       364\n",
            "         6.0       0.51      0.58      0.55       550\n",
            "         7.0       0.37      0.22      0.28       220\n",
            "         8.0       0.21      0.07      0.10        44\n",
            "         9.0       0.00      0.00      0.00         1\n",
            "\n",
            "    accuracy                           0.45      1225\n",
            "   macro avg       0.24      0.22      0.22      1225\n",
            "weighted avg       0.44      0.45      0.44      1225\n",
            "\n",
            "Accuracy: 0.45\n",
            "Cohen's Kappa: 0.16\n"
          ],
          "name": "stdout"
        },
        {
          "output_type": "stream",
          "text": [
            "/usr/local/lib/python3.6/dist-packages/sklearn/metrics/_classification.py:1272: UndefinedMetricWarning: Precision and F-score are ill-defined and being set to 0.0 in labels with no predicted samples. Use `zero_division` parameter to control this behavior.\n",
            "  _warn_prf(average, modifier, msg_start, len(result))\n"
          ],
          "name": "stderr"
        }
      ]
    },
    {
      "cell_type": "markdown",
      "metadata": {
        "id": "sgWsgfF6hCks"
      },
      "source": [
        "# Regression errors"
      ]
    },
    {
      "cell_type": "code",
      "metadata": {
        "id": "T0FoVuOOhCkt",
        "outputId": "dbe16940-d65e-4642-f047-bc0bffa920b1",
        "colab": {
          "base_uri": "https://localhost:8080/"
        }
      },
      "source": [
        "from sklearn.metrics import mean_squared_error, r2_score\n",
        "\n",
        "print('MSE=',mean_squared_error(testLabels, modelResults))\n",
        "print('R2=',r2_score(testLabels, modelResults))"
      ],
      "execution_count": null,
      "outputs": [
        {
          "output_type": "stream",
          "text": [
            "MSE= 0.9738775510204082\n",
            "R2= -0.24318404151248352\n"
          ],
          "name": "stdout"
        }
      ]
    },
    {
      "cell_type": "markdown",
      "metadata": {
        "id": "i6D95sPEhCkw"
      },
      "source": [
        "# Linear Regression"
      ]
    },
    {
      "cell_type": "code",
      "metadata": {
        "id": "j8lDSN7vhCkx",
        "outputId": "f53007cc-b2ab-4769-ee21-495766bb22db",
        "colab": {
          "base_uri": "https://localhost:8080/",
          "height": 403
        }
      },
      "source": [
        "from sklearn import linear_model\n",
        "model = linear_model.LinearRegression()\n",
        "model.fit(trainSamples, trainLabels)    \n",
        "modelResults = model.predict(testSamples)\n",
        "\n",
        "print('MSE=',mean_squared_error(testLabels, modelResults))\n",
        "print('R2=',r2_score(testLabels, modelResults))\n",
        "errors = np.abs(modelResults-testLabels)\n",
        "\n",
        "import matplotlib.pyplot as plt\n",
        "plt.bar(testLabels, errors, color='blue', linewidth=3)\n",
        "\n",
        "for i in range(len(testSamples)):\n",
        "    if(testLabels[i]==3 or testLabels[i]==9):\n",
        "        print(testLabels[i],' > ',modelResults[i],\" error=\",abs(modelResults[i]-testLabels[i]))\n"
      ],
      "execution_count": null,
      "outputs": [
        {
          "output_type": "stream",
          "text": [
            "MSE= 0.586472060877918\n",
            "R2= 0.2513507410531872\n",
            "3.0  >  5.045876875577449  error= 2.0458768755774486\n",
            "3.0  >  5.071831631990619  error= 2.0718316319906194\n",
            "3.0  >  6.30892160938572  error= 3.3089216093857203\n",
            "9.0  >  6.5544166964977535  error= 2.4455833035022465\n",
            "3.0  >  6.502841062776042  error= 3.5028410627760422\n",
            "3.0  >  6.158174174137798  error= 3.158174174137798\n"
          ],
          "name": "stdout"
        },
        {
          "output_type": "display_data",
          "data": {
            "image/png": "[encoded data removed]",
            "text/plain": [
              "<Figure size 432x288 with 1 Axes>"
            ]
          },
          "metadata": {
            "tags": [],
            "needs_background": "light"
          }
        }
      ]
    },
    {
      "cell_type": "markdown",
      "metadata": {
        "id": "-1yvC-jNhCk0"
      },
      "source": [
        "# Weighted results"
      ]
    },
    {
      "cell_type": "code",
      "metadata": {
        "id": "gtxbFapXhCk0",
        "outputId": "4a5cd7b2-0c6f-49cc-ec96-593d7b535351",
        "colab": {
          "base_uri": "https://localhost:8080/",
          "height": 473
        }
      },
      "source": [
        "from sklearn.utils import class_weight\n",
        "class_weights = class_weight.compute_class_weight('balanced',classes=np.unique(trainLabels),y=trainLabels)\n",
        "print(\"Class labels:\",np.unique(labels))\n",
        "print(\"Class weights:\",class_weights)\n",
        "\n",
        "weights = np.ones([len(trainLabels)]) # initialize all weights to 1\n",
        "for i, label in enumerate(trainLabels):\n",
        "    weights[i] *= class_weights[int(label-3)] # the first label is 3!\n",
        "\n",
        "model = linear_model.LinearRegression()\n",
        "#model = linear_model.Ridge()  ## another algorithm\n",
        "model.fit(trainSamples, trainLabels\n",
        "         ,sample_weight=weights ## use weights!\n",
        "         )    \n",
        "modelResults = model.predict(testSamples)\n",
        "\n",
        "print('MSE=',mean_squared_error(testLabels, modelResults))\n",
        "print('myMSE=',np.sum((modelResults-testLabels)**2)/len(testLabels))\n",
        "print('R2=',r2_score(testLabels, modelResults))\n",
        "errors = np.abs(modelResults-testLabels)\n",
        "\n",
        "import matplotlib.pyplot as plt\n",
        "plt.bar(testLabels, errors, color='blue', linewidth=3)\n",
        "\n",
        "for i in range(len(testSamples)):\n",
        "    if(testLabels[i]==3 or testLabels[i]==9):\n",
        "        print(testLabels[i],' > ',modelResults[i],\" error=\",abs(modelResults[i]-testLabels[i]))\n"
      ],
      "execution_count": null,
      "outputs": [
        {
          "output_type": "stream",
          "text": [
            "Class labels: [3. 4. 5. 6. 7. 8. 9.]\n",
            "Class weights: [ 34.98095238   4.30093677   0.48006796   0.31839459   0.79502165\n",
            "   4.00545256 131.17857143]\n",
            "MSE= 1.07054703454415\n",
            "myMSE= 1.07054703454415\n",
            "R2= -0.36658555034904095\n",
            "3.0  >  4.285365307302413  error= 1.2853653073024134\n",
            "3.0  >  5.737537618285273  error= 2.7375376182852733\n",
            "3.0  >  7.248964692810773  error= 4.248964692810773\n",
            "9.0  >  7.5755898746772345  error= 1.4244101253227655\n",
            "3.0  >  8.110509275528784  error= 5.110509275528784\n",
            "3.0  >  6.775433840275923  error= 3.775433840275923\n"
          ],
          "name": "stdout"
        },
        {
          "output_type": "display_data",
          "data": {
            "image/png": "[encoded data removed]",
            "text/plain": [
              "<Figure size 432x288 with 1 Axes>"
            ]
          },
          "metadata": {
            "tags": [],
            "needs_background": "light"
          }
        }
      ]
    }
  ]
}